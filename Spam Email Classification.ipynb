{
 "cells": [
  {
   "cell_type": "code",
   "execution_count": 42,
   "id": "88a045b9-34e1-4411-9159-d1226cc2ace2",
   "metadata": {},
   "outputs": [
    {
     "name": "stdout",
     "output_type": "stream",
     "text": [
      "Shape: (5172, 3002)\n",
      "\n",
      "First 5 rows:\n",
      "  Email No.  the  to  ect  and  for  of    a  you  hou  ...  connevey  jay  \\\n",
      "0   Email 1    0   0    1    0    0   0    2    0    0  ...         0    0   \n",
      "1   Email 2    8  13   24    6    6   2  102    1   27  ...         0    0   \n",
      "2   Email 3    0   0    1    0    0   0    8    0    0  ...         0    0   \n",
      "3   Email 4    0   5   22    0    5   1   51    2   10  ...         0    0   \n",
      "4   Email 5    7   6   17    1    5   2   57    0    9  ...         0    0   \n",
      "\n",
      "   valued  lay  infrastructure  military  allowing  ff  dry  Prediction  \n",
      "0       0    0               0         0         0   0    0           0  \n",
      "1       0    0               0         0         0   1    0           0  \n",
      "2       0    0               0         0         0   0    0           0  \n",
      "3       0    0               0         0         0   0    0           0  \n",
      "4       0    0               0         0         0   1    0           0  \n",
      "\n",
      "[5 rows x 3002 columns]\n",
      "\n",
      "Column names (first 10):\n",
      "Index(['Email No.', 'the', 'to', 'ect', 'and', 'for', 'of', 'a', 'you', 'hou'], dtype='object')\n"
     ]
    }
   ],
   "source": [
    "import pandas as pd\n",
    "\n",
    "# Load dataset\n",
    "df = pd.read_csv(\"data/emails.csv\")\n",
    "\n",
    "print(\"Shape:\", df.shape)\n",
    "print(\"\\nFirst 5 rows:\")\n",
    "print(df.head())\n",
    "\n",
    "print(\"\\nColumn names (first 10):\")\n",
    "print(df.columns[:10])\n"
   ]
  },
  {
   "cell_type": "code",
   "execution_count": 43,
   "id": "62e83f79-26e4-4cc1-af4d-45312253f1a8",
   "metadata": {},
   "outputs": [
    {
     "name": "stdout",
     "output_type": "stream",
     "text": [
      "Features shape: (5172, 3000)\n",
      "Labels shape: (5172,)\n",
      "Training set size: (4137, 3000)\n",
      "Test set size: (1035, 3000)\n"
     ]
    }
   ],
   "source": [
    "from sklearn.model_selection import train_test_split\n",
    "\n",
    "# Drop \"Email No.\" (not useful for training)\n",
    "X = df.drop(columns=[\"Email No.\", \"Prediction\"])\n",
    "\n",
    "# Target column\n",
    "y = df[\"Prediction\"]\n",
    "\n",
    "print(\"Features shape:\", X.shape)\n",
    "print(\"Labels shape:\", y.shape)\n",
    "\n",
    "# Split dataset into train/test\n",
    "X_train, X_test, y_train, y_test = train_test_split(\n",
    "    X, y, test_size=0.2, random_state=42, stratify=y\n",
    ")\n",
    "\n",
    "print(\"Training set size:\", X_train.shape)\n",
    "print(\"Test set size:\", X_test.shape)\n"
   ]
  },
  {
   "cell_type": "code",
   "execution_count": 44,
   "id": "c9fe1018-a98b-4891-8836-a600aa2fda19",
   "metadata": {},
   "outputs": [
    {
     "name": "stdout",
     "output_type": "stream",
     "text": [
      "Accuracy: 0.9826086956521739\n",
      "\n",
      "Classification Report:\n",
      "              precision    recall  f1-score   support\n",
      "\n",
      "           0       0.99      0.98      0.99       735\n",
      "           1       0.96      0.98      0.97       300\n",
      "\n",
      "    accuracy                           0.98      1035\n",
      "   macro avg       0.98      0.98      0.98      1035\n",
      "weighted avg       0.98      0.98      0.98      1035\n",
      "\n",
      "\n",
      "Confusion Matrix:\n",
      "[[722  13]\n",
      " [  5 295]]\n"
     ]
    }
   ],
   "source": [
    "from sklearn.linear_model import LogisticRegression\n",
    "from sklearn.metrics import accuracy_score, classification_report, confusion_matrix\n",
    "\n",
    "# Train Logistic Regression model\n",
    "model = LogisticRegression(max_iter=1000)\n",
    "model.fit(X_train, y_train)\n",
    "\n",
    "# Predictions\n",
    "y_pred = model.predict(X_test)\n",
    "\n",
    "# Evaluation\n",
    "acc = accuracy_score(y_test, y_pred)\n",
    "print(\"Accuracy:\", acc)\n",
    "\n",
    "print(\"\\nClassification Report:\")\n",
    "print(classification_report(y_test, y_pred))\n",
    "\n",
    "print(\"\\nConfusion Matrix:\")\n",
    "print(confusion_matrix(y_test, y_pred))\n"
   ]
  },
  {
   "cell_type": "code",
   "execution_count": 45,
   "id": "ba93a232-e5c7-44ff-976c-1d69343945d7",
   "metadata": {},
   "outputs": [
    {
     "name": "stdout",
     "output_type": "stream",
     "text": [
      "Model saved as spam_classifier.pkl\n",
      "Sample Prediction: [0]\n"
     ]
    },
    {
     "name": "stderr",
     "output_type": "stream",
     "text": [
      "C:\\Users\\HASSAAN\\anaconda3\\Lib\\site-packages\\sklearn\\utils\\validation.py:2739: UserWarning: X does not have valid feature names, but LogisticRegression was fitted with feature names\n",
      "  warnings.warn(\n"
     ]
    }
   ],
   "source": [
    "import joblib\n",
    "\n",
    "# Save the trained model\n",
    "joblib.dump(model, \"spam_classifier.pkl\")\n",
    "print(\"Model saved as spam_classifier.pkl\")\n",
    "\n",
    "# Example: load model back\n",
    "loaded_model = joblib.load(\"spam_classifier.pkl\")\n",
    "\n",
    "# Test on one example email vector (from X_test)\n",
    "sample = X_test.iloc[0].values.reshape(1, -1)\n",
    "pred = loaded_model.predict(sample)\n",
    "print(\"Sample Prediction:\", pred)\n"
   ]
  },
  {
   "cell_type": "code",
   "execution_count": 46,
   "id": "4a683687-3937-4faa-afc9-af8458c29a13",
   "metadata": {},
   "outputs": [
    {
     "name": "stdout",
     "output_type": "stream",
     "text": [
      "Actual Label: Not Spam\n",
      "Predicted Label: Not Spam\n"
     ]
    }
   ],
   "source": [
    "def predict_email(model, email_features):\n",
    "    \"\"\"\n",
    "    model: trained model\n",
    "    email_features: one row (DataFrame with same columns as training data)\n",
    "    \"\"\"\n",
    "    pred = model.predict(email_features)[0]\n",
    "    return \"Spam\" if pred == 1 else \"Not Spam\"\n",
    "\n",
    "\n",
    "# Example: pick random test sample\n",
    "sample = X_test.sample(1, random_state=42)\n",
    "print(\"Actual Label:\", \"Spam\" if y_test.loc[sample.index[0]] == 1 else \"Not Spam\")\n",
    "\n",
    "print(\"Predicted Label:\", predict_email(model, sample))\n"
   ]
  },
  {
   "cell_type": "code",
   "execution_count": 47,
   "id": "930c1c56-c564-42ac-8cd4-ec81ed1b2dd9",
   "metadata": {},
   "outputs": [
    {
     "name": "stdout",
     "output_type": "stream",
     "text": [
      "  label                                               text\n",
      "0   ham  Go until jurong point, crazy.. Available only ...\n",
      "1   ham                      Ok lar... Joking wif u oni...\n",
      "2  spam  Free entry in 2 a wkly comp to win FA Cup fina...\n",
      "3   ham  U dun say so early hor... U c already then say...\n",
      "4   ham  Nah I don't think he goes to usf, he lives aro...\n"
     ]
    }
   ],
   "source": [
    "import pandas as pd\n",
    "\n",
    "df = pd.read_csv(\"SMSSpamCollection\", sep=\"\\t\", header=None, names=[\"label\", \"text\"])\n",
    "print(df.head())\n"
   ]
  },
  {
   "cell_type": "code",
   "execution_count": 48,
   "id": "1eb77fb8-4394-43c8-a7a4-fe7e909c1c61",
   "metadata": {},
   "outputs": [
    {
     "name": "stdout",
     "output_type": "stream",
     "text": [
      "Train size: (4457,) Test size: (1115,)\n"
     ]
    }
   ],
   "source": [
    "from sklearn.model_selection import train_test_split\n",
    "\n",
    "X = df[\"text\"]                  # sirf text column\n",
    "y = df[\"label\"].map({\"ham\": 0, \"spam\": 1})  # target numeric\n",
    "\n",
    "X_train, X_test, y_train, y_test = train_test_split(\n",
    "    X, y, test_size=0.2, random_state=42, stratify=y\n",
    ")\n",
    "\n",
    "print(\"Train size:\", X_train.shape, \"Test size:\", X_test.shape)\n"
   ]
  },
  {
   "cell_type": "code",
   "execution_count": 49,
   "id": "67a70da3-92a3-491c-9db0-b41dc9e65ca6",
   "metadata": {},
   "outputs": [
    {
     "name": "stdout",
     "output_type": "stream",
     "text": [
      "X_train_vec shape: (4457, 3000)\n",
      "y_train shape: (4457,)\n",
      "Accuracy: 0.9721973094170404\n",
      "              precision    recall  f1-score   support\n",
      "\n",
      "           0       0.97      1.00      0.98       966\n",
      "           1       1.00      0.79      0.88       149\n",
      "\n",
      "    accuracy                           0.97      1115\n",
      "   macro avg       0.98      0.90      0.93      1115\n",
      "weighted avg       0.97      0.97      0.97      1115\n",
      "\n"
     ]
    }
   ],
   "source": [
    "from sklearn.feature_extraction.text import TfidfVectorizer\n",
    "from sklearn.linear_model import LogisticRegression\n",
    "from sklearn.metrics import accuracy_score, classification_report\n",
    "\n",
    "# Text → vectors\n",
    "vectorizer = TfidfVectorizer(stop_words=\"english\", max_features=3000)\n",
    "\n",
    "X_train_vec = vectorizer.fit_transform(X_train)   # 4137 rows\n",
    "X_test_vec = vectorizer.transform(X_test)         # 1435 rows\n",
    "\n",
    "print(\"X_train_vec shape:\", X_train_vec.shape)\n",
    "print(\"y_train shape:\", y_train.shape)\n",
    "\n",
    "# Train Logistic Regression\n",
    "model = LogisticRegression(max_iter=1000)\n",
    "model.fit(X_train_vec, y_train)\n",
    "\n",
    "# Evaluate\n",
    "y_pred = model.predict(X_test_vec)\n",
    "print(\"Accuracy:\", accuracy_score(y_test, y_pred))\n",
    "print(classification_report(y_test, y_pred))\n"
   ]
  },
  {
   "cell_type": "code",
   "execution_count": 50,
   "id": "582fcac5-9c9c-48c3-8858-7d00c3d8d57e",
   "metadata": {},
   "outputs": [
    {
     "name": "stdout",
     "output_type": "stream",
     "text": [
      "Spam\n",
      "Not Spam\n"
     ]
    }
   ],
   "source": [
    "def predict_custom_email(text):\n",
    "    vec = vectorizer.transform([text])\n",
    "    pred = model.predict(vec)[0]\n",
    "    return \"Spam\" if pred == 1 else \"Not Spam\"\n",
    "\n",
    "# Example\n",
    "print(predict_custom_email(\"Congratulations! You won a $1000 gift card. Click here to claim.\"))\n",
    "print(predict_custom_email(\"Dear Hassan, please find attached the project report for tomorrow's meeting.\"))\n"
   ]
  },
  {
   "cell_type": "code",
   "execution_count": 51,
   "id": "ee29ba42-d555-4b89-9c14-8b632cc490df",
   "metadata": {},
   "outputs": [
    {
     "data": {
      "text/plain": [
       "['vectorizer.pkl']"
      ]
     },
     "execution_count": 51,
     "metadata": {},
     "output_type": "execute_result"
    }
   ],
   "source": [
    "import joblib\n",
    "\n",
    "joblib.dump(model, \"spam_model.pkl\")\n",
    "joblib.dump(vectorizer, \"vectorizer.pkl\")\n"
   ]
  },
  {
   "cell_type": "code",
   "execution_count": null,
   "id": "4b3b3ddf-1431-4009-bebf-e7999d0aabb3",
   "metadata": {},
   "outputs": [],
   "source": []
  }
 ],
 "metadata": {
  "kernelspec": {
   "display_name": "Python [conda env:base] *",
   "language": "python",
   "name": "conda-base-py"
  },
  "language_info": {
   "codemirror_mode": {
    "name": "ipython",
    "version": 3
   },
   "file_extension": ".py",
   "mimetype": "text/x-python",
   "name": "python",
   "nbconvert_exporter": "python",
   "pygments_lexer": "ipython3",
   "version": "3.13.5"
  }
 },
 "nbformat": 4,
 "nbformat_minor": 5
}
